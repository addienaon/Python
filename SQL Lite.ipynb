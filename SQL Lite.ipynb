{
  "metadata": {
    "language_info": {
      "codemirror_mode": {
        "name": "python",
        "version": 3
      },
      "file_extension": ".py",
      "mimetype": "text/x-python",
      "name": "python",
      "nbconvert_exporter": "python",
      "pygments_lexer": "ipython3",
      "version": "3.8"
    },
    "kernelspec": {
      "name": "python",
      "display_name": "Pyolite",
      "language": "python"
    }
  },
  "nbformat_minor": 4,
  "nbformat": 4,
  "cells": [
    {
      "cell_type": "code",
      "source": "#Python has SQL Lite built in\nimport sqlite3\n\n#pass the name of the database\nsqlite3.connect(\"example.db\") \n#db files are created in the current working directly, not necessarily in the same folder as .py file \n#use cd in terminal to navigate to the folder you want to save .db file to \n#see path you're in with pwd\n\n#say you want the database to be in memory RAM\n#this is good if you want to test before creating the db\nconn = sqlite3.connect(\":memory:\")",
      "metadata": {
        "trusted": true
      },
      "execution_count": 3,
      "outputs": []
    },
    {
      "cell_type": "code",
      "source": "c = conn.cursor() #used to work with the data\n\n#create table and columns\nc.execute('CREATE TABLE IF NOT EXISTS books (title TEXT, pages INTEGER)') \n#if not exists is added for .db files so there is no error thrown that the table already exists when running file multiple times",
      "metadata": {
        "trusted": true
      },
      "execution_count": 6,
      "outputs": [
        {
          "execution_count": 6,
          "output_type": "execute_result",
          "data": {
            "text/plain": "<sqlite.Cursor at 0x38040a8>"
          },
          "metadata": {}
        }
      ]
    },
    {
      "cell_type": "code",
      "source": "#insert data\nc.execute('INSERT INTO books VALUES (\"Are You My Mother?\", 72)')\nconn.commit() #commit used anytime you want to insert data into table\n\n#only insert to specific column\nc.execute('INSERT INTO books (title) VALUES (\"Are You My Mother?\")')\nconn.commit()",
      "metadata": {
        "trusted": true
      },
      "execution_count": 10,
      "outputs": []
    },
    {
      "cell_type": "code",
      "source": "#retrieve data\nc.execute('SELECT * FROM books')\ndata = c.fetchone()\nprint(data) #tuple is returned\n",
      "metadata": {
        "trusted": true
      },
      "execution_count": 12,
      "outputs": [
        {
          "name": "stdout",
          "text": "('Are You My Mother?', 72)\n",
          "output_type": "stream"
        }
      ]
    },
    {
      "cell_type": "code",
      "source": "books = [\n    (\"Are You My Mother?\", 72),\n    (\"The Digging-est Dog\", 72),\n    (\"The Giving Tree\", 66)\n]\n\nc.executemany('INSERT INTO books VALUES (?, ?)', books)\nconn.commit()\n\nc.execute('SELECT * FROM books')\ndata_all = c.fetchall()\nprint(data_all)",
      "metadata": {
        "trusted": true
      },
      "execution_count": 17,
      "outputs": [
        {
          "name": "stdout",
          "text": "[('Are You My Mother?', 72), ('Are You My Mother?', 72), ('Are You My Mother?', 72), ('Are You My Mother?', None), ('Are You My Mother?', 72), ('The Digging-est Dog', 72), ('The Giving Tree', 66), ('Are You My Mother?', 72), ('The Digging-est Dog', 72), ('The Giving Tree', 66), ('Are You My Mother?', 72), ('The Digging-est Dog', 72), ('The Giving Tree', 66)]\n",
          "output_type": "stream"
        }
      ]
    },
    {
      "cell_type": "code",
      "source": "c.execute('SELECT * FROM books WHERE title=\"Are You My Mother?\"')\ndata_all = c.fetchall()\nprint(data_all)",
      "metadata": {
        "trusted": true
      },
      "execution_count": 19,
      "outputs": [
        {
          "name": "stdout",
          "text": "[('Are You My Mother?', 72), ('Are You My Mother?', 72), ('Are You My Mother?', 72), ('Are You My Mother?', None), ('Are You My Mother?', 72), ('Are You My Mother?', 72), ('Are You My Mother?', 72)]\n",
          "output_type": "stream"
        }
      ]
    },
    {
      "cell_type": "code",
      "source": "#delete data\nc.execute('DELETE FROM books WHERE title=\"Are You My Mother?\"')\nconn.commit()\n\nc.execute('SELECT * FROM books')\ndata_all = c.fetchall()\nprint(data_all)",
      "metadata": {
        "trusted": true
      },
      "execution_count": 21,
      "outputs": [
        {
          "name": "stdout",
          "text": "[('The Digging-est Dog', 72), ('The Giving Tree', 66), ('The Digging-est Dog', 72), ('The Giving Tree', 66), ('The Digging-est Dog', 72), ('The Giving Tree', 66)]\n",
          "output_type": "stream"
        }
      ]
    },
    {
      "cell_type": "code",
      "source": "c.execute('SELECT rowid, title FROM books')\ndata_all = c.fetchall()\nprint(data_all)",
      "metadata": {
        "trusted": true
      },
      "execution_count": 22,
      "outputs": [
        {
          "name": "stdout",
          "text": "[(6, 'The Digging-est Dog'), (7, 'The Giving Tree'), (9, 'The Digging-est Dog'), (10, 'The Giving Tree'), (12, 'The Digging-est Dog'), (13, 'The Giving Tree')]\n",
          "output_type": "stream"
        }
      ]
    },
    {
      "cell_type": "code",
      "source": "#delete data\nc.execute('DELETE FROM books WHERE rowid=7')\nconn.commit()\n\nc.execute('SELECT * FROM books')\ndata_all = c.fetchall()\nprint(data_all)",
      "metadata": {
        "trusted": true
      },
      "execution_count": 23,
      "outputs": [
        {
          "name": "stdout",
          "text": "[('The Digging-est Dog', 72), ('The Digging-est Dog', 72), ('The Giving Tree', 66), ('The Digging-est Dog', 72), ('The Giving Tree', 66)]\n",
          "output_type": "stream"
        }
      ]
    },
    {
      "cell_type": "code",
      "source": "",
      "metadata": {},
      "execution_count": null,
      "outputs": []
    }
  ]
}