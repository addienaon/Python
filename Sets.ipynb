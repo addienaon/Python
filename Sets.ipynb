{
  "metadata": {
    "language_info": {
      "codemirror_mode": {
        "name": "python",
        "version": 3
      },
      "file_extension": ".py",
      "mimetype": "text/x-python",
      "name": "python",
      "nbconvert_exporter": "python",
      "pygments_lexer": "ipython3",
      "version": "3.8"
    },
    "kernelspec": {
      "name": "python",
      "display_name": "Pyolite",
      "language": "python"
    }
  },
  "nbformat_minor": 4,
  "nbformat": 4,
  "cells": [
    {
      "cell_type": "code",
      "source": "#Sets are like lists, but there are no duplicates and they are unordered\nitems = {\"sword\", \"rubber duck\", \"slice of pizza\"}\nitems.add(\"sword\")\nprint(items)\n\n#Sets are hashed to stored in memory, but not with a key like a dictionary. \n#the value itself is hashed, so you must use hasbale data types. lists cannot nest inside sets. ",
      "metadata": {},
      "execution_count": null,
      "outputs": []
    },
    {
      "cell_type": "code",
      "source": "conjunctions = {\"for\", \"and\", \"not\", \"but\", \"or\", \"yet\", \"so\"}\n\npoem = \"\"\"I still hear your voice, when you sleep next to me.\nI still feel your touch in my dream.\n(in my dream)\nForgive me my weakness, but I don't know why,\nWithout you, it's hard to survive.\n'Cause every time we touch, I get this feeling.\nAnd every time we kiss, I swear I could fly.\nCan't you feel my heart beat fast?\nI want this to last.\nNeed you by my side or yet so\"\"\"\n\ndata = poem.split()\nseen = set() #have to initialize by 'set()' becayse using {} would create an empty dictionary\n\nfor word in data:\n    if str.lower(word) in conjunctions:\n        seen.add(str.lower(word))\n        \nprint(seen)\n\n#sets are very useful for Yes/No check. cannot do counts. ",
      "metadata": {
        "trusted": true
      },
      "execution_count": 6,
      "outputs": [
        {
          "name": "stdout",
          "text": "{'and', 'but', 'or', 'so', 'yet'}\n",
          "output_type": "stream"
        }
      ]
    },
    {
      "cell_type": "code",
      "source": "#remove duplicates from a list\ncolors = ['red', 'red', 'green', 'blue', 'blue', 'blue']\n\n#convert list to set and back to list\ncolors[:] = list(set(colors)) \n\n#note: sets are unordered, so order is not the same\nprint(colors)",
      "metadata": {
        "trusted": true
      },
      "execution_count": 9,
      "outputs": [
        {
          "name": "stdout",
          "text": "['blue', 'red', 'green']\n",
          "output_type": "stream"
        }
      ]
    },
    {
      "cell_type": "code",
      "source": "#union & intersection\nmy_fav = {'red', 'green', 'blue', 'black', 'purple'}\nher_fav = {'blue', 'orange', 'purple', 'green'}\n\n#union - combines both sets, no duplicates\nall_favs = my_fav | her_fav\n#or\nall_favs = my_fav.union(her_fav)\n\nprint(all_favs)\n\n#intersection - elements shared between both sets. colors both people like.\nshared_favs = my_fav & her_fav\n#or\nshared_favs = my_fav.intersection(her_fav)\n\nprint(shared_favs)",
      "metadata": {
        "trusted": true
      },
      "execution_count": 13,
      "outputs": [
        {
          "name": "stdout",
          "text": "{'blue', 'black', 'orange', 'purple', 'green', 'red'}\n{'purple', 'blue', 'green'}\n",
          "output_type": "stream"
        }
      ]
    },
    {
      "cell_type": "code",
      "source": "#difference & symetric difference\n\n#the difference is equivalent to subtraction (my - her) or (her - my)\nonly_me = my_fav - her_fav\n\nprint(only_me)\n#or\nprint(my_fav.difference(her_fav))\n\nonly_her = her_fav - my_fav\n\nprint(only_her)\n#or\nprint(her_fav.difference(my_fav))\n\n\n#Symetric difference. Everything but the shares. \nprint(only_her | only_me)\n#or\nsymmetric = my_fav ^ her_fav\nprint(symmetric)\n#or\nprint(my_fav.symmetric_difference(her_fav))",
      "metadata": {
        "trusted": true
      },
      "execution_count": 21,
      "outputs": [
        {
          "name": "stdout",
          "text": "{'black', 'red'}\n{'black', 'red'}\n{'orange'}\n{'orange'}\n{'black', 'orange', 'red'}\n{'black', 'orange', 'red'}\n{'black', 'orange', 'red'}\n",
          "output_type": "stream"
        }
      ]
    },
    {
      "cell_type": "code",
      "source": "",
      "metadata": {},
      "execution_count": null,
      "outputs": []
    }
  ]
}