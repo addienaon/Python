{
  "metadata": {
    "language_info": {
      "codemirror_mode": {
        "name": "python",
        "version": 3
      },
      "file_extension": ".py",
      "mimetype": "text/x-python",
      "name": "python",
      "nbconvert_exporter": "python",
      "pygments_lexer": "ipython3",
      "version": "3.8"
    },
    "kernelspec": {
      "name": "python",
      "display_name": "Pyolite",
      "language": "python"
    }
  },
  "nbformat_minor": 4,
  "nbformat": 4,
  "cells": [
    {
      "cell_type": "code",
      "source": "#Object oriented programming (OOP) allows us to represent anything we want in our code. ex: create data type, book.\n#class - defines a structure. the blueprint. \nclass Book(): #by convention use a capital letter\n    def __init__(self, title): #create a method. __init__ is the initializer. \n        self.title = title #self refers to the object\n\nbook = Book(\"Are You My Mother?\") #book object\n\nprint(type(book)) #<class '__main__.Book'>\n\n#we can access the different attributes using a dot operator\nprint(book.title)",
      "metadata": {
        "trusted": true
      },
      "execution_count": 2,
      "outputs": [
        {
          "name": "stdout",
          "text": "<class '__main__.Book'>\nAre You My Mother?\n",
          "output_type": "stream"
        }
      ]
    },
    {
      "cell_type": "code",
      "source": "#create multiple methods inside object\nclass Book(): \n    def __init__(self, title, pages): #attributes at the object level.\n        self.title = title\n        self.pages = pages\n        \n    def is_long(self):\n        if self.pages > 100:\n            return True\n        return False\n        \nbook = Book(\"Are You My Mother?\", 72)\nprint(book.is_long()) #False\n\nbook2 = Book(\"test\", 200)\nprint(book2.is_long()) #True",
      "metadata": {
        "trusted": true
      },
      "execution_count": 4,
      "outputs": [
        {
          "name": "stdout",
          "text": "False\nTrue\n",
          "output_type": "stream"
        }
      ]
    },
    {
      "cell_type": "code",
      "source": "#attributes describe the book (previously done for each book). They can also be described at the class level (for every book).\nclass Book(): \n    \n    favorites = []\n    \n    def __init__(self, title, pages): #attributes at the object level.\n        self.title = title\n        self.pages = pages\n        \n    def is_long(self):\n        if self.pages > 100:\n            return True\n        return False\n    \n#every time you print an object, without specifying attributes, it give you the type and memory address.\n#print(book) <__main__.Book object at 0x38002a8>\n    \n    def __str__(self):\n        return f\"{self.title} is {self.pages} pages long.\"\n    \n    def __eq__(self, other): #self is on left side equation, other is on right side (book == book2)\n        if self.title == other.title and self.pages == other.pages:\n            return True\n        return False\n    \n    def __hash__(self):\n        return hash(self.title) ^ hash(self.pages)\n    \nbook = Book(\"Are You My Mother?\", 72)\nbook2 = Book(\"The Digging-est Dog\", 72)\n\nBook.favorites.append(book) #capital B, so we're adding book objects to the favorites attributes of the class\nBook.favorites.append(book2)\n\nfor b in Book.favorites:\n    print(b.title) \n    \nprint(book)\n",
      "metadata": {
        "trusted": true
      },
      "execution_count": 22,
      "outputs": [
        {
          "name": "stdout",
          "text": "Are You My Mother?\nThe Digging-est Dog\nAre You My Mother? is 72 pages long.\n",
          "output_type": "stream"
        }
      ]
    },
    {
      "cell_type": "code",
      "source": "#overide 'eq' or 'equals' mehtod to see if books are the same\nprint(book == book2)\n#this is asking if these are the same area of memory. the only way for this to be true is if,\n\n#book 2 = book\n\n#we would prefer it compare title and page number instead\nbook = Book(\"Are You My Mother?\", 72)\nbook2 = Book(\"Are You My Mother?\", 72)\n\nprint(book == book2)\n\n#look at __eq__ method",
      "metadata": {
        "trusted": true
      },
      "execution_count": 23,
      "outputs": [
        {
          "name": "stdout",
          "text": "False\nTrue\n",
          "output_type": "stream"
        }
      ]
    },
    {
      "cell_type": "code",
      "source": "#__hash__ = None is the default when we override __eq__ (Book is not hasable)\n#we want to hash a set or dictionary with our objects:\n\n#before overide: unhashable type: 'Book'\ndata = {book, book2}\n\n#after overide: no errors\n\n#look at __hash__ method\n\n#if you don't want your objects to be hashable, set method to 'None': __has__ = None\n#you would not want to do this for mutable types because hashes are derived from the data and so you wouldn't want to be constantly updating it. \n\nprint(hash(book)) #1053929221\nbook.title = \"Something else\"\nprint(hash(book)) #-1686457510\n\nbook = Book(\"Are You My Mother?\", 72)\nbook2 = Book(\"Are You My Mother?\", 72)\n\nprint(book == book2) #True\nprint(hash(book) == hash(book2)) #True",
      "metadata": {
        "trusted": true
      },
      "execution_count": 28,
      "outputs": [
        {
          "name": "stdout",
          "text": "1053929221\n-1686457510\nTrue\nTrue\n",
          "output_type": "stream"
        }
      ]
    },
    {
      "cell_type": "code",
      "source": "#object id - objects will always have unique id's\n#same data, but considered different books\n\nbook = Book(\"Are You My Mother?\", 72)\nbook2 = Book(\"Are You My Mother?\", 72)\n\nprint(id(book), id(book2)) #58541208 58845488\n#or\nprint(book is book2) #False\n\nbook = book2\nprint(id(book), id(book2)) #59166408 59166408\n#or\nprint(book is book2) #True",
      "metadata": {
        "trusted": true
      },
      "execution_count": 31,
      "outputs": [
        {
          "name": "stdout",
          "text": "59204384 59166408\nFalse\n59166408 59166408\nTrue\n",
          "output_type": "stream"
        }
      ]
    },
    {
      "cell_type": "code",
      "source": "#passing objects to functions\ndef do_something(book):\n    print(id(book)) #59166408\n    book.title = \"Something new\"\n    print(id(book)) #59166408\n    \ndo_something(book)\n\nprint(book) #functions can change the data of objects\n\n#if the function replaces the objecy, the id will be the same each time. If a new object is created, a new id will be created:\n\ndef do_something_else(book):\n    print(id(book)) #59166408\n    book = Book(\"Something new\", 72)\n    print(id(book)) #59233880\n    \ndo_something_else(book)\n\nprint(book)",
      "metadata": {
        "trusted": true
      },
      "execution_count": 36,
      "outputs": [
        {
          "name": "stdout",
          "text": "59166408\n59166408\nSomething new is 72 pages long.\n59166408\n59233880\nSomething new is 72 pages long.\n",
          "output_type": "stream"
        }
      ]
    },
    {
      "cell_type": "code",
      "source": "",
      "metadata": {},
      "execution_count": null,
      "outputs": []
    }
  ]
}