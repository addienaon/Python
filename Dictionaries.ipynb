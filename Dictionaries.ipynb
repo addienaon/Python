{
  "metadata": {
    "language_info": {
      "codemirror_mode": {
        "name": "python",
        "version": 3
      },
      "file_extension": ".py",
      "mimetype": "text/x-python",
      "name": "python",
      "nbconvert_exporter": "python",
      "pygments_lexer": "ipython3",
      "version": "3.8"
    },
    "kernelspec": {
      "name": "python",
      "display_name": "Pyolite",
      "language": "python"
    }
  },
  "nbformat_minor": 4,
  "nbformat": 4,
  "cells": [
    {
      "cell_type": "code",
      "source": "emails = {\n    \"addie\": \"addienaon@gmail.com\",\n    \"gal\" : \"g@email.com\",\n    (5,5) : \"this is a tuple\" #tuples are dif. ffrom lists and are created using (), not []\n}\n\nprint(emails) #{'addie': 'addienaon@gmail.com', 'gal': 'g@email.com'}\n\n#key has to be a hashable data type\n#internal has method - determines memory location\n\nprint(hash(\"addie\")) #-1488883766\n\n#strings, tupples(), int (mutable types)  are hashable (no lists[])",
      "metadata": {
        "trusted": true
      },
      "execution_count": 6,
      "outputs": [
        {
          "name": "stdout",
          "text": "{'addie': 'addienaon@gmail.com', 'gal': 'g@email.com', (5, 5): 'this is a tuple'}\n-1488883766\n",
          "output_type": "stream"
        }
      ]
    },
    {
      "cell_type": "code",
      "source": "#dictionaries are great for insert/retrieval of data. You don't have to iterate through, like you do in a list. \n#Size of dictionary does not matter O(1) --> constant time\n\n#retrieve data from dictionary: using a key\nif 'addie' in emails:\n        print(emails['addie'])\n        \nif 'Addie' in emails: #use if to avoid errors\n        print(emails['Addie'])\n        \n#Alternatively, use get and you won't get errors even if key done not exist. It will return 'None'\nprint(emails.get('gal'))\n\n#'None' is the default. You can also specify what to return if the key does not exist\nprint(emails.get('Gal', \"No user found\"))",
      "metadata": {
        "trusted": true
      },
      "execution_count": 16,
      "outputs": [
        {
          "name": "stdout",
          "text": "addienaon@gmail.com\ng@email.com\nNo user found\n",
          "output_type": "stream"
        }
      ]
    },
    {
      "cell_type": "code",
      "source": "#Add data to dictionary\nemails['josh'] = \"j@email.com\"\n\nprint(emails)\n\n#OR\n#good for adding multiple elements at once\nemails.update({\"jenny\": \"jen@email.com\", \"ryan\": \"remail.com\"})\n\nprint(emails)\n\n#OR\nemails.update(cam = \"cam@email.com\")\n\nprint(emails)",
      "metadata": {
        "trusted": true
      },
      "execution_count": 21,
      "outputs": [
        {
          "name": "stdout",
          "text": "{'addie': 'addienaon@gmail.com', 'gal': 'g@email.com', (5, 5): 'this is a tuple', 'josh': 'j@email.com', 'jenny': 'jen@email.com', 'ryan': 'remail.com', 'cam': 'cam@email.com'}\n{'addie': 'addienaon@gmail.com', 'gal': 'g@email.com', (5, 5): 'this is a tuple', 'josh': 'j@email.com', 'jenny': 'jen@email.com', 'ryan': 'remail.com', 'cam': 'cam@email.com'}\n{'addie': 'addienaon@gmail.com', 'gal': 'g@email.com', (5, 5): 'this is a tuple', 'josh': 'j@email.com', 'jenny': 'jen@email.com', 'ryan': 'remail.com', 'cam': 'cam@email.com'}\n",
          "output_type": "stream"
        }
      ]
    },
    {
      "cell_type": "code",
      "source": "#iterate through dictionary keys\nfor k in emails:\n    print(k)\n\n#iterate through keys and elements. this is not the best because you have to hash it twice\nfor k in emails:\n    print(k, emails[k])\n    \n#this way is better\nfor k, elem in emails.items():\n    print(k, elem)",
      "metadata": {
        "trusted": true
      },
      "execution_count": 23,
      "outputs": [
        {
          "name": "stdout",
          "text": "addie\ngal\n(5, 5)\njosh\njenny\nryan\ncam\naddie addienaon@gmail.com\ngal g@email.com\n(5, 5) this is a tuple\njosh j@email.com\njenny jen@email.com\nryan remail.com\ncam cam@email.com\n",
          "output_type": "stream"
        }
      ]
    },
    {
      "cell_type": "code",
      "source": "conjunctions = {\"for\": 0, \"and\": 0, \"nor\": 0, \"but\": 0, \"or\": 0, \"yet\": 0, \"so\": 0}\n\npoem = \"\"\"I still hear your voice, when you sleep next to me.\nI still feel your touch in my dream.\n(in my dream)\nForgive me my weakness, but I don't know why,\nWithout you, it's hard to survive.\nCause every time we touch, I get this feeling.\nAnd every time we kiss, I swear I could fly.\nCan't you feel my heart beat fast?\nI want this to last.\nNeed you by my side.\"\"\"\n\ndata = poem.split()\nprint(data)\n\nfor word in data:\n    if str.lower(word) in conjunctions:\n        conjunctions[str.lower(word)] += 1\n        \nprint(conjunctions)",
      "metadata": {
        "trusted": true
      },
      "execution_count": 27,
      "outputs": [
        {
          "name": "stdout",
          "text": "['I', 'still', 'hear', 'your', 'voice,', 'when', 'you', 'sleep', 'next', 'to', 'me.', 'I', 'still', 'feel', 'your', 'touch', 'in', 'my', 'dream.', '(in', 'my', 'dream)', 'Forgive', 'me', 'my', 'weakness,', 'but', 'I', \"don't\", 'know', 'why,', 'Without', 'you,', \"it's\", 'hard', 'to', 'survive.', 'Cause', 'every', 'time', 'we', 'touch,', 'I', 'get', 'this', 'feeling.', 'And', 'every', 'time', 'we', 'kiss,', 'I', 'swear', 'I', 'could', 'fly.', \"Can't\", 'you', 'feel', 'my', 'heart', 'beat', 'fast?', 'I', 'want', 'this', 'to', 'last.', 'Need', 'you', 'by', 'my', 'side.']\n{'for': 0, 'and': 1, 'nor': 0, 'but': 1, 'or': 0, 'yet': 0, 'so': 0}\n",
          "output_type": "stream"
        }
      ]
    },
    {
      "cell_type": "code",
      "source": "",
      "metadata": {},
      "execution_count": null,
      "outputs": []
    }
  ]
}