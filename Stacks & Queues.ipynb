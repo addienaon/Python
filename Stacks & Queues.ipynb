{
  "metadata": {
    "language_info": {
      "codemirror_mode": {
        "name": "python",
        "version": 3
      },
      "file_extension": ".py",
      "mimetype": "text/x-python",
      "name": "python",
      "nbconvert_exporter": "python",
      "pygments_lexer": "ipython3",
      "version": "3.8"
    },
    "kernelspec": {
      "name": "python",
      "display_name": "Pyolite",
      "language": "python"
    }
  },
  "nbformat_minor": 4,
  "nbformat": 4,
  "cells": [
    {
      "cell_type": "code",
      "source": "#QUEUE - FIRST IN FIRST OUT (FIFO)\nqueue = []\n\nqueue.append(\"data 1\")\nqueue.append(\"data 2\")\n\nprint(queue)\nqueue.pop(0) #remove from the LEFT/BOTTOM\nprint(queue)",
      "metadata": {
        "trusted": true
      },
      "execution_count": 6,
      "outputs": [
        {
          "name": "stdout",
          "text": "['data 1', 'data 2']\n['data 2']\n['data 1', 'data 2']\n['data 1']\n",
          "output_type": "stream"
        }
      ]
    },
    {
      "cell_type": "code",
      "source": "#STACK - LAST IN FIRST OUT (LILO)\nstack = []\n\nstack.append(\"Plate A\")\nstack.append(\"Plate b\")\n\nprint(stack)\nstack.pop()\nprint(stack)",
      "metadata": {
        "trusted": true
      },
      "execution_count": 7,
      "outputs": [
        {
          "name": "stdout",
          "text": "['Plate A', 'Plate b']\n['Plate A']\n",
          "output_type": "stream"
        }
      ]
    },
    {
      "cell_type": "code",
      "source": "",
      "metadata": {},
      "execution_count": null,
      "outputs": []
    }
  ]
}