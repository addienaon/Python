{
  "metadata": {
    "language_info": {
      "codemirror_mode": {
        "name": "python",
        "version": 3
      },
      "file_extension": ".py",
      "mimetype": "text/x-python",
      "name": "python",
      "nbconvert_exporter": "python",
      "pygments_lexer": "ipython3",
      "version": "3.8"
    },
    "kernelspec": {
      "name": "python",
      "display_name": "Pyolite",
      "language": "python"
    }
  },
  "nbformat_minor": 4,
  "nbformat": 4,
  "cells": [
    {
      "cell_type": "code",
      "source": "import math\n\n#modules are imported as a special object, so you acess functions using dot operators\nprint(math.sqrt(4))",
      "metadata": {
        "trusted": true
      },
      "execution_count": 1,
      "outputs": [
        {
          "name": "stdout",
          "text": "2.0\n",
          "output_type": "stream"
        }
      ]
    },
    {
      "cell_type": "code",
      "source": "#find out where modules come from\nimport random\n\nprint(random) #<module 'random' from '/lib/python3.9/random.py'>\n\n#from vs code - copy ^path into file explorer and you can open the module and see the code behind it",
      "metadata": {
        "trusted": true
      },
      "execution_count": 2,
      "outputs": [
        {
          "name": "stdout",
          "text": "<module 'random' from '/lib/python3.9/random.py'>\n",
          "output_type": "stream"
        }
      ]
    },
    {
      "cell_type": "code",
      "source": "#get type\nprint(type(random)) #<class 'module'>\n\n#sample useage\nprint(random.randint(0,10))",
      "metadata": {
        "trusted": true
      },
      "execution_count": 6,
      "outputs": [
        {
          "name": "stdout",
          "text": "<class 'module'>\n5\n",
          "output_type": "stream"
        }
      ]
    },
    {
      "cell_type": "code",
      "source": "#import specific methods from module\nfrom random import randint, seed\n\n#do this so you dont have to preface function call with 'random.'\nprint(randint(0,10))\n\nprint(type(randint)) #<class 'method'>",
      "metadata": {
        "trusted": true
      },
      "execution_count": 8,
      "outputs": [
        {
          "name": "stdout",
          "text": "0\n<class 'method'>\n",
          "output_type": "stream"
        }
      ]
    },
    {
      "cell_type": "code",
      "source": "#cons of not importing the entire module - you may overwrite variable names. \nseed = \"apple\"\n\nfrom random import seed\nprint(seed) #<bound method Random.seed of <random.Random object at 0xe3c888>>\n\n#this depends on order!!!\nfrom random import seed\n\nseed = \"apple\"\nprint(seed) #apple\n#if you import the entire module, you only have to worry about one module name and not many method names",
      "metadata": {
        "trusted": true
      },
      "execution_count": 10,
      "outputs": [
        {
          "name": "stdout",
          "text": "<bound method Random.seed of <random.Random object at 0xe3c888>>\napple\n",
          "output_type": "stream"
        }
      ]
    },
    {
      "cell_type": "code",
      "source": "#ALIAS\n#if you need to use a specific variable name, but it's conflicting with a module name -- aliasing\nmath = 3\nimport math as m\nprint(math) #3\nprint(m) #<module 'math' (built-in)>",
      "metadata": {
        "trusted": true
      },
      "execution_count": 11,
      "outputs": [
        {
          "name": "stdout",
          "text": "3\n<module 'math' (built-in)>\n",
          "output_type": "stream"
        }
      ]
    },
    {
      "cell_type": "code",
      "source": "#WARNINGS \nfrom random import * #this means you're importing everything. You don't have to use '.random' to call the method\n\nprint(randint(0,10))\n\n#Why not to do this - not knowing all the methods you've imported can greatly increase your chance of naming conflicts. \n#you could also accidentally replace the method from one module with a different if they have the same name. \n\na, b, c, d = 0, 0, 0, 0\nprint(dir()) #see all 'taken' identifiers in list",
      "metadata": {
        "trusted": true
      },
      "execution_count": 17,
      "outputs": [
        {
          "name": "stdout",
          "text": "2\n['In', 'Out', 'Random', 'SystemRandom', '_', '__', '___', '__builtin__', '__builtins__', '__name__', '_dh', '_i', '_i1', '_i10', '_i11', '_i12', '_i13', '_i14', '_i15', '_i16', '_i17', '_i2', '_i3', '_i4', '_i5', '_i6', '_i7', '_i8', '_i9', '_ih', '_ii', '_iii', '_oh', 'a', 'b', 'betavariate', 'c', 'choice', 'choices', 'd', 'exit', 'expovariate', 'gammavariate', 'gauss', 'get_ipython', 'getrandbits', 'getstate', 'lognormvariate', 'm', 'math', 'normalvariate', 'paretovariate', 'quit', 'randbytes', 'randint', 'random', 'randrange', 'sample', 'seed', 'setstate', 'shuffle', 'triangular', 'uniform', 'vonmisesvariate', 'weibullvariate']\n",
          "output_type": "stream"
        }
      ]
    },
    {
      "cell_type": "code",
      "source": "#creating your own module - just a python file\nimport utils\n#you would create a python file and name it 'utils.py'\n#then create a function in it called 'stats_range'\ndef stats_range(data):\n    data.sort()\n    return data[-1]-data[0]\n    \nprint(utils.stats_range([1, 3, 10, 40, 4, 3])",
      "metadata": {},
      "execution_count": null,
      "outputs": []
    },
    {
      "cell_type": "code",
      "source": "#the 'sys' module allows you to interact with the interpretor \nimport sys\n#sys.ps1\nsys.ps1 = \"~~~~~ \"\nsys.ps1",
      "metadata": {
        "trusted": true
      },
      "execution_count": 21,
      "outputs": [
        {
          "execution_count": 21,
          "output_type": "execute_result",
          "data": {
            "text/plain": "'~~~~~ '"
          },
          "metadata": {}
        }
      ]
    },
    {
      "cell_type": "code",
      "source": "#changing the location of your modules to a different folder - VS Code\n#you have to modify the module file path in the current file by:\nimport sys\nprint(sys.path)\n#if the module was saved in a different foldewr in the same parent folder, you have to step out of the current folder and append the path to a new location\n#ex:\nsys.path.append(\"/Users/calebcurry/example\")\nimport utils\n\n#ANOTHER WAY TO DO THIS: on a mac exmaple\n#with this method, if you move the file, it will automatically update (benefit of not hardcoding any paths)\nimport sys\n\nfrom os.path import dirname, abspath\nd = dirname(dirname(abspath(__file__)))\n\nsys.path.append(d)\n\nimport utils\n",
      "metadata": {
        "trusted": true
      },
      "execution_count": 22,
      "outputs": [
        {
          "name": "stdout",
          "text": "['/home/pyodide', '/home/pyodide/lib/python39.zip', '/lib/python3.9', '/lib/python3.9/lib-dynload', '', '/lib/python3.9/site-packages']\n",
          "output_type": "stream"
        }
      ]
    },
    {
      "cell_type": "code",
      "source": "",
      "metadata": {},
      "execution_count": null,
      "outputs": []
    }
  ]
}