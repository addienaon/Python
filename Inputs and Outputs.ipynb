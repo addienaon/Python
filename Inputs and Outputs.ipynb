{
  "metadata": {
    "language_info": {
      "codemirror_mode": {
        "name": "python",
        "version": 3
      },
      "file_extension": ".py",
      "mimetype": "text/x-python",
      "name": "python",
      "nbconvert_exporter": "python",
      "pygments_lexer": "ipython3",
      "version": "3.8"
    },
    "kernelspec": {
      "name": "python",
      "display_name": "Pyolite",
      "language": "python"
    }
  },
  "nbformat_minor": 4,
  "nbformat": 4,
  "cells": [
    {
      "cell_type": "code",
      "source": "#convert a string into a list\nmsg = \"Pay attention to everything I say\"\n\nwords = msg.split()\n\nprint(words)\n\nmsg = \"Pay,attention,to,everything,I,say\"\n\nwords = msg.split(',')\n\nprint(words)",
      "metadata": {
        "trusted": true
      },
      "execution_count": 2,
      "outputs": [
        {
          "name": "stdout",
          "text": "['Pay', 'attention', 'to', 'everything', 'I', 'say']\n['Pay', 'attention', 'to', 'everything', 'I', 'say']\n",
          "output_type": "stream"
        }
      ]
    },
    {
      "cell_type": "code",
      "source": "#strings on different lines with 3 quotations\nmsg = \"\"\"\\\nPay attention\nto everything\nI say\"\"\"\n\nprint(msg)\n#Pay attention\n#to everything\n#I say\n\n#split by line\nwords = msg.split('\\n')\n\nprint(words)",
      "metadata": {
        "trusted": true
      },
      "execution_count": 10,
      "outputs": [
        {
          "name": "stdout",
          "text": "Pay attention\nto everything\nI say\n['Pay attention', 'to everything', 'I say']\n",
          "output_type": "stream"
        }
      ]
    },
    {
      "cell_type": "code",
      "source": "#get input from users\nprint(\"Tell me your favorite Vegitable. Hit enter after each food. q to quit\")\n\nfavs = []\n\nwhile True:\n    data = input()\n    if str.lower(data) == \"q\":\n        break            #Make sure to include a break or it is an infinite loop!\n    favs.append(data)\n\n    #DOES NOT WORK IN JUPYTER NOTEBOoKS!!",
      "metadata": {
        "trusted": true
      },
      "execution_count": 1,
      "outputs": [
        {
          "name": "stdout",
          "text": "Tell me your favorite Vegitable. Hit enter after each food. q to quit\n",
          "output_type": "stream"
        },
        {
          "ename": "<class 'TypeError'>",
          "evalue": "descriptor 'lower' for 'str' objects doesn't apply to a 'Future' object",
          "traceback": [
            "\u001b[0;31m---------------------------------------------------------------------------\u001b[0m",
            "\u001b[0;31mTypeError\u001b[0m                                 Traceback (most recent call last)",
            "Input \u001b[0;32mIn [1]\u001b[0m, in \u001b[0;36m<cell line: 7>\u001b[0;34m()\u001b[0m\n\u001b[1;32m      6\u001b[0m \u001b[38;5;28;01mwhile\u001b[39;00m \u001b[38;5;28;01mTrue\u001b[39;00m:\n\u001b[1;32m      7\u001b[0m     data \u001b[38;5;241m=\u001b[39m \u001b[38;5;28minput\u001b[39m()\n\u001b[0;32m----> 8\u001b[0m     \u001b[38;5;28;01mif\u001b[39;00m \u001b[38;5;28;43mstr\u001b[39;49m\u001b[38;5;241;43m.\u001b[39;49m\u001b[43mlower\u001b[49m\u001b[43m(\u001b[49m\u001b[43mdata\u001b[49m\u001b[43m)\u001b[49m \u001b[38;5;241m==\u001b[39m \u001b[38;5;124m\"\u001b[39m\u001b[38;5;124mq\u001b[39m\u001b[38;5;124m\"\u001b[39m:\n\u001b[1;32m      9\u001b[0m         \u001b[38;5;28;01mbreak\u001b[39;00m            \u001b[38;5;66;03m#Make sure to include a break or it is an infinite loop!\u001b[39;00m\n\u001b[1;32m     10\u001b[0m     favs\u001b[38;5;241m.\u001b[39mappend(data)\n",
            "\u001b[0;31mTypeError\u001b[0m: descriptor 'lower' for 'str' objects doesn't apply to a 'Future' object"
          ],
          "output_type": "error"
        }
      ]
    },
    {
      "cell_type": "code",
      "source": "for food in favs:\n    print(\"You said:\", food)",
      "metadata": {
        "trusted": true
      },
      "execution_count": 13,
      "outputs": [
        {
          "name": "stdout",
          "text": "<Future finished result='brocolli'>\n",
          "output_type": "stream"
        }
      ]
    },
    {
      "cell_type": "code",
      "source": "",
      "metadata": {},
      "execution_count": null,
      "outputs": []
    }
  ]
}