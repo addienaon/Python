{
  "metadata": {
    "language_info": {
      "codemirror_mode": {
        "name": "python",
        "version": 3
      },
      "file_extension": ".py",
      "mimetype": "text/x-python",
      "name": "python",
      "nbconvert_exporter": "python",
      "pygments_lexer": "ipython3",
      "version": "3.8"
    },
    "kernelspec": {
      "name": "python",
      "display_name": "Pyolite",
      "language": "python"
    }
  },
  "nbformat_minor": 4,
  "nbformat": 4,
  "cells": [
    {
      "cell_type": "code",
      "source": "#creating an SDK to work with a database\n#The purpose is to seperate the db code from the application code\n    #makes it easier because we can just call a function to add/get without having to write SQL\n    #no hardcoding (\"rowid\")\n    \nclass Book():\n    favs = [] #class\n\n    def __init__(self, title, pages):\n        self.title = title\n        self.pages = pages\n\n    def is_short(self):\n        if self.pages < 100:\n            return true\n\n    #What happens when you pass object to print?\n    def __str__(self):\n        return f\"{self.title}, {self.pages} pages long\"\n\n    #What happens when you use ==?\n    def __eq__(self, other):\n        if(self.title == other.title and self.pages == other.pages):\n            return True\n    \n    #It's approriate to give something for __hash__ when you override __eq__\n    # #This is the recommended way if mutable (like it is here):\n    __hash__ = None\n\n    def __repr__(self): #added to make list of items invoke str\n        return self.__str__()",
      "metadata": {
        "trusted": true
      },
      "execution_count": 1,
      "outputs": []
    },
    {
      "cell_type": "code",
      "source": "#using class in another file \n#from book import Book\n\nbook = Book(\"Are You My Mother?\", 72)\nbooksSDK.add_book(book) #adds to database",
      "metadata": {},
      "execution_count": null,
      "outputs": []
    },
    {
      "cell_type": "code",
      "source": "#best practice to close a connection to db after use\n#function to give us a cursor and close the connection after each SDK function\nimport sqlite3\nfrom book import book\n\ndef cursor():\n    return sqlite3.connect('books.db').cursor()\n\n#ex: create a table\nc.cursor()\nc.execute('CREATE TABLE IF NOT EXISTS books (title TEXT, pages INTEGER)')\nc.connecion.close()\n\n#Function to add a book\ndef add_book(book):\n    c = cursor()\n    c.execute('INSERT INTO books VALUES (?, ?)',(book.title, book.pages))\n    c.connection.close()\n    \n#or\ndef add_book(book):\n    c = cursor()\n   \n    with c.connection(): \n        c.execute('INSERT INTO books VALUES (?, ?)',(book.title, book.pages))\n    return c.lastrowid #gives the id that was inserted\n    c.connection.close() #with will automatically commit but does not automatically close the connection\n    \nprint(books.SDK.add_book(book))",
      "metadata": {},
      "execution_count": null,
      "outputs": []
    },
    {
      "cell_type": "code",
      "source": "def get_books():\n    c = cursor()\n    \n    with c.connection:\n        for book in c.execute('SELECT * FROM books'):\n            books.append(Book(book[0], book[1]))\n    c.connection.close() \n    return books",
      "metadata": {},
      "execution_count": null,
      "outputs": []
    },
    {
      "cell_type": "code",
      "source": "def get_book_by_title(title):\n    c = cursor()\n    with c.connection:\n        c.execute('SELECT * FROM book WHERE title=?', (title,))\n        data c.fetchone() #you can return or store the data\n        c.connection.close()\n        if not data: #check to see if there's anything in there\n            return None\n        \n        return Book(data[0], data[1])",
      "metadata": {},
      "execution_count": null,
      "outputs": []
    }
  ]
}