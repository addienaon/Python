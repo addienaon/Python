{
  "metadata": {
    "language_info": {
      "codemirror_mode": {
        "name": "python",
        "version": 3
      },
      "file_extension": ".py",
      "mimetype": "text/x-python",
      "name": "python",
      "nbconvert_exporter": "python",
      "pygments_lexer": "ipython3",
      "version": "3.8"
    },
    "kernelspec": {
      "name": "python",
      "display_name": "Pyolite",
      "language": "python"
    }
  },
  "nbformat_minor": 4,
  "nbformat": 4,
  "cells": [
    {
      "cell_type": "code",
      "source": "class Book(): \n    \n    favorites = []\n    \n    def __init__(self, title, pages): #attributes at the object level.\n        self.title = title\n        self.pages = pages\n        \n    def is_long(self):\n        if self.pages > 100:\n            return True\n        return False\n    \n#every time you print an object, without specifying attributes, it give you the type and memory address.\n#print(book) <__main__.Book object at 0x38002a8>\n    \n    def __str__(self):\n        return f\"{self.title} is {self.pages} pages long.\"\n    \n    def __eq__(self, other): #self is on left side equation, other is on right side (book == book2)\n        if self.title == other.title and self.pages == other.pages:\n            return True\n        return False\n    \n    def __hash__(self):\n        return hash(self.title) ^ hash(self.pages)\n    \nbook = Book(\"Are You My Mother?\", 72)\nbook2 = Book(\"The Digging-est Dog\", 72)",
      "metadata": {
        "trusted": true
      },
      "execution_count": 1,
      "outputs": []
    },
    {
      "cell_type": "code",
      "source": "#create a file\n\nopen(\"input.txt\", 'a')\n\n#write to a file\n\nfile = open(\"input.txt\", 'w')\nfile.write(\"Are You My Mother?\\t72\\n\")\nfile.write(\"The Digging-est Dog\\t72\\n\")\n\n#clost the file\n\nfile.close()",
      "metadata": {
        "trusted": true
      },
      "execution_count": 4,
      "outputs": []
    },
    {
      "cell_type": "code",
      "source": "#read from file\n\nfile = open('input.txt', 'r')\ndata = file.read() #read will return a string of all of the data\ndata = file.read().split('\\n') #read will return a list seperated by new lines\n#file.close #continue working with data, but close the file since we've already go it\n\nprint(data) \n\n#book1_data = data[0].split('\\t') #split data on tab character\n#book1 = Book(book1_data[0], book1_data[1])\n#another way\n#book2 = Book(data[1].split('\\t')[0], data[1].split('\\t')[1])\n\n#print(book1)",
      "metadata": {
        "trusted": true
      },
      "execution_count": 16,
      "outputs": [
        {
          "name": "stdout",
          "text": "",
          "output_type": "stream"
        },
        {
          "name": "stdout",
          "text": "\n",
          "output_type": "stream"
        }
      ]
    },
    {
      "cell_type": "code",
      "source": "#Traceback errors\n#different types of exceptions in python\n\n#generally: try to limit what's in 'try' to one though. i.e. reading/parsing a file because it becomes harder to be specific on what went wrong.\n#also not good to have a ton of 'try's in code\ntry:\n    file = open(\"input.txt\", 'r') #first exception\n    int(file.read()) #jumps to 2nd exception\nexcept FileNotFound as e:\n    print (print(\"Cannot find file\"))\nexcept Exception as e:\n    print (e) #only use for debugging\n    print(\"Something went wrong\")\nfinally: #this will always run\n    file.close()\n    print(\"Always\") \n\n#increase specificity of errors by adding more detailed exceptions\n#giving all the details in errors is not visually appealing and can become a security risk. ideally we always give a user friednly version of the error.",
      "metadata": {
        "trusted": true
      },
      "execution_count": 2,
      "outputs": []
    },
    {
      "cell_type": "code",
      "source": "#WITH - to automatically close files after reading them\n\nwith open(\"input.txt\") as file:\n    if not file.closed:\n          print(\"open\")\n\nif file.closed:\n    print(\"closed\")\n    \n#^If there is an error parsing the file, it's automatically closed for us. If there is an error opening the file it doesn't get opened:\ntry: \n    file = open(\"input.txt\")\nexcept OSError:\n    print(\"Cannot open\")\nelse: #executes if the try is sucessful\n    with file:\n        #code to parse the file\n        print(file.readline())",
      "metadata": {
        "trusted": true
      },
      "execution_count": 1,
      "outputs": [
        {
          "ename": "<class 'FileNotFoundError'>",
          "evalue": "[Errno 44] No such file or directory: 'input.txt'",
          "traceback": [
            "\u001b[0;31m---------------------------------------------------------------------------\u001b[0m",
            "\u001b[0;31mFileNotFoundError\u001b[0m                         Traceback (most recent call last)",
            "Input \u001b[0;32mIn [1]\u001b[0m, in \u001b[0;36m<cell line: 3>\u001b[0;34m()\u001b[0m\n\u001b[1;32m      1\u001b[0m \u001b[38;5;66;03m#WITH - to automatically close files after reading them\u001b[39;00m\n\u001b[0;32m----> 3\u001b[0m \u001b[38;5;28;01mwith\u001b[39;00m \u001b[38;5;28;43mopen\u001b[39;49m\u001b[43m(\u001b[49m\u001b[38;5;124;43m\"\u001b[39;49m\u001b[38;5;124;43minput.txt\u001b[39;49m\u001b[38;5;124;43m\"\u001b[39;49m\u001b[43m)\u001b[49m \u001b[38;5;28;01mas\u001b[39;00m file:\n\u001b[1;32m      4\u001b[0m     \u001b[38;5;28;01mif\u001b[39;00m \u001b[38;5;129;01mnot\u001b[39;00m file\u001b[38;5;241m.\u001b[39mclosed:\n\u001b[1;32m      5\u001b[0m           \u001b[38;5;28mprint\u001b[39m(\u001b[38;5;124m\"\u001b[39m\u001b[38;5;124mopen\u001b[39m\u001b[38;5;124m\"\u001b[39m)\n",
            "\u001b[0;31mFileNotFoundError\u001b[0m: [Errno 44] No such file or directory: 'input.txt'"
          ],
          "output_type": "error"
        }
      ]
    },
    {
      "cell_type": "code",
      "source": "",
      "metadata": {},
      "execution_count": null,
      "outputs": []
    }
  ]
}