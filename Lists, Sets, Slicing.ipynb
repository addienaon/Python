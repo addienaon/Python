{
  "metadata": {
    "language_info": {
      "codemirror_mode": {
        "name": "python",
        "version": 3
      },
      "file_extension": ".py",
      "mimetype": "text/x-python",
      "name": "python",
      "nbconvert_exporter": "python",
      "pygments_lexer": "ipython3",
      "version": "3.8"
    },
    "kernelspec": {
      "name": "python",
      "display_name": "Pyolite",
      "language": "python"
    }
  },
  "nbformat_minor": 4,
  "nbformat": 4,
  "cells": [
    {
      "cell_type": "code",
      "source": "#A set is a list with no duplicates, and no order.\nbackpack = {\"sword\", \"rubber duck\", \"slice of pizza\", \"parachute\", \"sword\"}\n\nprint(backpack) #note that sword is only printed once\n\n#the purpose of sets is to see if something has been added or not. True/False\nprint(\"sword\" in backpack)",
      "metadata": {
        "trusted": true
      },
      "execution_count": 2,
      "outputs": [
        {
          "name": "stdout",
          "text": "{'rubber duck', 'parachute', 'sword', 'slice of pizza'}\nTrue\n",
          "output_type": "stream"
        }
      ]
    },
    {
      "cell_type": "code",
      "source": "#list comprehension\nbackpack = [\"sword\", \"rubber duck\", \"slice of pizza\", \"parachute\", \"sword\", \"sword\"] #list\n\ncounts = [backpack.count(item) for item in backpack] \nprint(counts)\n\n#the problem is, for every item of a particular type, it counts them again. Sword count '3' displayed 3 times.\n#we only want to count sword one time. Use a set!\n\ncounts = [backpack.count(item) for item in set(backpack)]\nprint(counts)\n\n#print itme name by putting inside a list:\n\ncounts = [[backpack.count(item), item] for item in set(backpack)] #list of lists\nprint(counts)",
      "metadata": {
        "trusted": true
      },
      "execution_count": 6,
      "outputs": [
        {
          "name": "stdout",
          "text": "[3, 1, 1, 1, 3, 3]\n[1, 1, 3, 1]\n[[1, 'parachute'], [1, 'rubber duck'], [3, 'sword'], [1, 'slice of pizza']]\n",
          "output_type": "stream"
        }
      ]
    },
    {
      "cell_type": "code",
      "source": "#counter - Counting elements in a list\nfrom collections import Counter\nprint(Counter(backpack)) #returns a dictionary with the item and number of occurances ",
      "metadata": {
        "trusted": true
      },
      "execution_count": 7,
      "outputs": [
        {
          "name": "stdout",
          "text": "Counter({'sword': 3, 'rubber duck': 1, 'slice of pizza': 1, 'parachute': 1})\n",
          "output_type": "stream"
        }
      ]
    },
    {
      "cell_type": "code",
      "source": "#Inserting Data\nworkdays = [\"Monday\", \"Tuesday\", \"Thursday\", \"Friday\", \"Saturday\"]\n\nprint(workdays[3])\n\nworkdays.insert(2, \"Wednesday\")\n\n#when you insert data, it shifts everything over. Keep that in mind because index references will change after inserts.\nprint(workdays[3])\n\nprint(workdays) ",
      "metadata": {
        "trusted": true
      },
      "execution_count": 9,
      "outputs": [
        {
          "name": "stdout",
          "text": "Friday\nThursday\n['Monday', 'Tuesday', 'Wednesday', 'Thursday', 'Friday', 'Saturday']\n",
          "output_type": "stream"
        }
      ]
    },
    {
      "cell_type": "code",
      "source": "#Remove data from list \nworkdays = [\"Monday\", \"Tuesday\", \"Wednesday\", \"Thursday\", \"Friday\", \"Saturday\"]\n\nworkdays.remove(\"Saturday\")\n\nprint(workdays)\n\n#Alternatively use slicing to remove data by index\nworkdays = [\"Monday\", \"Tuesday\", \"Wednesday\", \"Thursday\", \"Friday\", \"Saturday\"]\n\ndel workdays[5]\n\nprint(workdays)",
      "metadata": {
        "trusted": true
      },
      "execution_count": 12,
      "outputs": [
        {
          "name": "stdout",
          "text": "['Monday', 'Tuesday', 'Wednesday', 'Thursday', 'Friday', 'Saturday']\n['Monday', 'Tuesday', 'Wednesday', 'Thursday', 'Friday']\n['Monday', 'Tuesday', 'Wednesday', 'Thursday', 'Friday']\n",
          "output_type": "stream"
        }
      ]
    },
    {
      "cell_type": "code",
      "source": "#pop method\nworkdays = [\"Monday\", \"Tuesday\", \"Wednesday\", \"Thursday\", \"Friday\", \"Saturday\"]\n\npopped = workdays.pop(5) #returns data\nprint(\"We just removed:\", popped)",
      "metadata": {
        "trusted": true
      },
      "execution_count": 14,
      "outputs": [
        {
          "name": "stdout",
          "text": "We just removed: Saturday\n",
          "output_type": "stream"
        }
      ]
    },
    {
      "cell_type": "code",
      "source": "workdays = [\"Monday\", \"Tuesday\", \"Wednesday\", \"Thursday\", \"Friday\", \"Saturday\"]\nworkdays.append(\"Sunday\")\n\ndel workdays[-1] #this will always remove from the end of a list. So, if you plan on inserting data, you can still ref. the last element. \n\nprint (workdays)\n\n#get rid of multiple elements \n\ndel workdays[workdays.index(\"Wednesday\"): workdays.index(\"Wednesday\") + 3] #remove elements from Wednesday to Friday\n\nprint(workdays)\n\n#Get rid of everything after an element \nworkdays = [\"Monday\", \"Tuesday\", \"Wednesday\", \"Thursday\", \"Friday\", \"Saturday\"]\n\ndel workdays[workdays.index(\"Wednesday\"):]\n\nprint(workdays)",
      "metadata": {
        "trusted": true
      },
      "execution_count": 20,
      "outputs": [
        {
          "name": "stdout",
          "text": "['Monday', 'Tuesday', 'Wednesday', 'Thursday', 'Friday', 'Saturday']\n['Monday', 'Tuesday', 'Saturday']\n['Monday', 'Tuesday']\n",
          "output_type": "stream"
        }
      ]
    },
    {
      "cell_type": "code",
      "source": "#Remove an element from a list using a loop \nbackpack = [\"pizza slice\", \"button\", \"pizza slice\", \"fishinbg pole\", \"pizza slice\", \"nunchucks\", \"pizza slice\", \"sandwhich\"]\n\nwhile backpack.count(\"pizza slice\") > 0: #O(n) - not a scalable solution\n    backpack.remove(\"pizza slice\")\n    \nprint(backpack)",
      "metadata": {
        "trusted": true
      },
      "execution_count": 22,
      "outputs": [
        {
          "name": "stdout",
          "text": "['button', 'fishinbg pole', 'nunchicks', 'sandwhich']\n",
          "output_type": "stream"
        }
      ]
    },
    {
      "cell_type": "code",
      "source": "#list slicing\nbackpack = [\"pizza slice\", \"button\", \"pizza slice\", \"fishinbg pole\", \"pizza slice\", \"nunchucks\", \"pizza slice\", \"sandwhich\"]\n\nprint(backpack[3:6]) #prints elements 3,4,5 (excludes 6)\n\nref_var=backpack #assigning to variable withoug [:] is just a ref\nbackpack2 = backpack[:] #make a copy of a list, not the same object in memory\nprint(id(backpack)) #58553864\nprint(id(ref_var)) #58553864\nprint(id(backpack2)) #58980064\n\n#replace all elements in a list without changing memory location\nprint(id(backpack)) #58959008\n\nbackpack[:] = [1,2,3]\n\nprint(id(backpack)) #58959008\n\n#VS. so a new variable which would create a new object in memory\n\nprint(id(backpack)) #58935824\n\nbackpack = [1,2,3]\n\nprint(id(backpack)) #58953648\n\n#IF YOU'RE USING THE SLICING ON THE LEFT SIDE OF AN EQUATION, ITS GOING TO BE THE SAME OBJECT IN MEMORY. \n    # backpack[:] = \n#IF YOU'RE USING THE SLICING ON THE RIGHT SIDE OF AN EQUATION, ITS GOING TO MAKE A COPY IN A NEW LOCATIO IN MEMORY.\n    # = backpack[:]",
      "metadata": {
        "trusted": true
      },
      "execution_count": 29,
      "outputs": [
        {
          "name": "stdout",
          "text": "['fishinbg pole', 'pizza slice', 'nunchucks']\n58935824\n58935824\n58965536\n58935824\n58935824\n58935824\n58953648\n",
          "output_type": "stream"
        }
      ]
    },
    {
      "cell_type": "code",
      "source": "#remove an element from a lsit using a for loop\nbackpack = [\"pizza slice\", \"button\", \"pizza slice\", \"pizza slice\", \"nunchucks\", \"pizza slice\", \"sandwhich\"]\n\n#DON'T DO THIS!\nfor item in backpack:\n    if item == \"pizza slice\":\n        backpack.remove(item)\n    \nprint(backpack) #['button', 'nunchucks', 'pizza slice', 'sandwhich']\n\n#this does not work because the for uses indexes and when you remove an item, you're shifting all the elements over. so, when there are 2 \n#\"pizza slice\" back to back, it skips one.\n\nbackpack = [\"pizza slice\", \"button\", \"pizza slice\", \"pizza slice\", \"nunchucks\", \"pizza slice\", \"sandwhich\"]\n\n#THE CORRECT WAY!\nfor item in backpack[:]:\n    if item == \"pizza slice\":\n        backpack.remove(item)\n\nprint(backpack)\n\n#now the indexes are based off the copy. As we remove items, the indexes don't shift. \n#NEED TO USE A COPY WHEN REMOVING ITEMS IN A LIST, IN A FOR LOOP\n\n#Alternatively- create a new backpack instead of removing from the old\nbackpack = [\"pizza slice\", \"button\", \"pizza slice\", \"pizza slice\", \"nunchucks\", \"pizza slice\", \"sandwhich\"]\n\nnew_backpack = []\n\nfor item in backpack:\n    if item != \"pizza slice\":\n        new_backpack.append(item)\n        \nbackpack = new_backpack\nprint(backpack)\n",
      "metadata": {
        "trusted": true
      },
      "execution_count": 38,
      "outputs": [
        {
          "name": "stdout",
          "text": "['button', 'nunchucks', 'pizza slice', 'sandwhich']\n['button', 'nunchucks', 'sandwhich']\n['button', 'nunchucks', 'sandwhich']\n",
          "output_type": "stream"
        }
      ]
    },
    {
      "cell_type": "code",
      "source": "#remove using list comprehension\nbackpack = [\"pizza slice\", \"button\", \"pizza slice\", \"pizza slice\", \"nunchucks\", \"pizza slice\", \"sandwhich\"]\n\nbackpack[:] = [item for item in backpack if item != \"pizza slice\"]\n\nprint(backpack)",
      "metadata": {
        "trusted": true
      },
      "execution_count": 40,
      "outputs": [
        {
          "name": "stdout",
          "text": "['button', 'nunchucks', 'sandwhich']\n",
          "output_type": "stream"
        }
      ]
    },
    {
      "cell_type": "code",
      "source": "",
      "metadata": {},
      "execution_count": null,
      "outputs": []
    }
  ]
}