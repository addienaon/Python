{
  "metadata": {
    "language_info": {
      "codemirror_mode": {
        "name": "python",
        "version": 3
      },
      "file_extension": ".py",
      "mimetype": "text/x-python",
      "name": "python",
      "nbconvert_exporter": "python",
      "pygments_lexer": "ipython3",
      "version": "3.8"
    },
    "kernelspec": {
      "name": "python",
      "display_name": "Pyolite",
      "language": "python"
    }
  },
  "nbformat_minor": 4,
  "nbformat": 4,
  "cells": [
    {
      "cell_type": "code",
      "source": "#reversing method\ndata = [0, 1, 2, 3, 4, 5, [1, 2, 3]]\n\ndata.reverse() #when you have a method that does not return anything, you cannot use it within print(). The actual list is modified, a new one is not returned.\n\nprint(data) #[[1, 2, 3], 5, 4, 3, 2, 1, 0]\n#not the nested list does not get reversed",
      "metadata": {
        "trusted": true
      },
      "execution_count": 2,
      "outputs": [
        {
          "name": "stdout",
          "text": "[[1, 2, 3], 5, 4, 3, 2, 1, 0]\n",
          "output_type": "stream"
        }
      ]
    },
    {
      "cell_type": "code",
      "source": "#swapping\nme = \"Addie\"\nyou = \"Other\"\n\nprint(me, you)\n\nme, you = you, me\n\nprint (me, you)\n\n#swapping in a list\ndata = [\"a\", \"b\", \"c\", \"d\", \"e\", \"f\", \"g\", \"h\"]\n\nindex = 1\n\nprint(data[index], data[-index-1])\n\ndata[index], data[-index-1] = data[-index-1], data[index]\n\nprint(data[index], data[-index-1])",
      "metadata": {
        "trusted": true
      },
      "execution_count": 5,
      "outputs": [
        {
          "name": "stdout",
          "text": "Addie Other\nOther Addie\nb g\ng b\n",
          "output_type": "stream"
        }
      ]
    },
    {
      "cell_type": "code",
      "source": "#reverse the list in a loop - O(n)\ndata = [\"a\", \"b\", \"c\", \"d\", \"e\", \"f\", \"g\", \"h\"]\n\nindex = 1\n\n#my solution\nfor index in range(int(len(data)/2)):\n    data[index], data[-index-1] = data[-index-1], data[index]\n    \nprint(data)\n\n#calebs solution\ndata = [\"a\", \"b\", \"c\", \"d\", \"e\", \"f\", \"g\", \"h\", \"i\"] #works with odd number of elements beccause element in the middle stays where it is\n\nindex = 1\nfor index in range(len(data)//2): #integer division with //\n    data[index], data[-index-1] = data[-index-1], data[index]\n    \nprint(data)\n",
      "metadata": {
        "trusted": true
      },
      "execution_count": 9,
      "outputs": [
        {
          "name": "stdout",
          "text": "['h', 'g', 'f', 'e', 'd', 'c', 'b', 'a']\n['h', 'g', 'f', 'e', 'd', 'c', 'b', 'a']\n",
          "output_type": "stream"
        }
      ]
    },
    {
      "cell_type": "code",
      "source": "#reversing a list with a copy - O(n)\ndata = [\"a\", \"b\", \"c\", \"d\", \"e\", \"f\", \"g\", \"h\", \"i\"]\n\ndata_reversed = []\n\nfor item in reversed(data): #iterate through the elements starting at the end- just reversing the iterator, not the list. \n    data_reversed.append(item)\n\nprint(data)\nprint(data_reversed)",
      "metadata": {
        "trusted": true
      },
      "execution_count": 10,
      "outputs": [
        {
          "name": "stdout",
          "text": "['a', 'b', 'c', 'd', 'e', 'f', 'g', 'h', 'i']\n['i', 'h', 'g', 'f', 'e', 'd', 'c', 'b', 'a']\n",
          "output_type": "stream"
        }
      ]
    },
    {
      "cell_type": "code",
      "source": "#reversing a list - best solution \ndata = [\"a\", \"b\", \"c\", \"d\", \"e\", \"f\", \"g\", \"h\", \"i\"]\n\n#slicing data with a step\nprint(data[::2]) #specify step size: ['a', 'c', 'e', 'g', 'i']\n\n#print(data[::-1]) #steps through data backwards, making a shallow copy that can be assigned to a variable. ['i', 'h', 'g', 'f', 'e', 'd', 'c', 'b', 'a']\n\ndata[:] = data[::-1]\nprint(data)",
      "metadata": {
        "trusted": true
      },
      "execution_count": 12,
      "outputs": [
        {
          "name": "stdout",
          "text": "['a', 'c', 'e', 'g', 'i']\n['i', 'h', 'g', 'f', 'e', 'd', 'c', 'b', 'a']\n",
          "output_type": "stream"
        }
      ]
    },
    {
      "cell_type": "code",
      "source": "",
      "metadata": {},
      "execution_count": null,
      "outputs": []
    }
  ]
}