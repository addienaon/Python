{
  "metadata": {
    "language_info": {
      "codemirror_mode": {
        "name": "python",
        "version": 3
      },
      "file_extension": ".py",
      "mimetype": "text/x-python",
      "name": "python",
      "nbconvert_exporter": "python",
      "pygments_lexer": "ipython3",
      "version": "3.8"
    },
    "kernelspec": {
      "name": "python",
      "display_name": "Pyolite",
      "language": "python"
    }
  },
  "nbformat_minor": 4,
  "nbformat": 4,
  "cells": [
    {
      "cell_type": "code",
      "source": "grades = [[10, 25, 13, 45], [205], [70, 76, 49, 100]]\n\nprint(grades[0]) #[10, 25, 13, 45]\n\nprint(grades[2][1]) #76\n\n#can append to list and nested list - everything is dynamic\ngrades[1].append(70)\n\nprint(grades[1]) #[205, 70]\n\n#iterating through the data\nfor inner_list in grades:\n    for grade in inner_list:\n        print(grade,end=\" \") #makes everything print on same line\n    print( ) #print each line seperately \n    \n#or use indexes\nfor i in range(len(grades)):\n    for j in range(len(grades[i])):\n        print(grades[i][j], end=\" \")\n    print()\n    \n#create a function to print 2D list\ndef print_2d(grades):\n    for inner_list in grades:\n        for grade in inner_list:\n            print(grade,end=\" \")\n        print( )\n    \nprint_2d(grades)",
      "metadata": {
        "trusted": true
      },
      "execution_count": 10,
      "outputs": [
        {
          "name": "stdout",
          "text": "[10, 25, 13, 45]\n76\n[205, 70]\n10 25 13 45 \n205 70 \n70 76 49 100 \n10 25 13 45 \n205 70 \n70 76 49 100 \n10 25 13 45 \n205 70 \n70 76 49 100 \n",
          "output_type": "stream"
        }
      ]
    },
    {
      "cell_type": "code",
      "source": "#Split string data\ndata = \"this is data\"\nd =\" \"\ndata.split(d)\nprint(data)\n\n#concatentate list into one string - JOIN\ndata2 = ['this', 'is', 'data']\nprint(d.join(data2))\n\n#concatentate mixed data\ndata3 = ['this', 'is', 'data', 5, 10]\nprint(\" \".join(str(i) for i in data3))",
      "metadata": {
        "trusted": true
      },
      "execution_count": 20,
      "outputs": [
        {
          "name": "stdout",
          "text": "this is data\nthis is data\nthis is data 5 10\n",
          "output_type": "stream"
        }
      ]
    },
    {
      "cell_type": "code",
      "source": "#Sotring nested lists\nbasic = [5, 7, 3, 5, 10, 11]\nprint(sorted(basic))\n\ndata = [[10, 2, 3], [10, 4], [4, 5000, 6], [10]]\n#this will sort by the first element in the list. If the first is the same, it looks at the second. \nprint(sorted(data)) #[[4, 5000, 6], [10], [10, 2, 3], [10, 4]] \n\ndata2 = [[\"ball\", \"apple\"], [\"amazon\"], [\"a\", \"zen\"]]\n#sorts by the first element in the list. its sorted alphabetically by character. \nprint(sorted(data2)) #[['a', 'zen'], ['amazon'], ['ball', 'apple']]",
      "metadata": {
        "trusted": true
      },
      "execution_count": 23,
      "outputs": [
        {
          "name": "stdout",
          "text": "[3, 5, 5, 7, 10, 11]\n[[4, 5000, 6], [10], [10, 2, 3], [10, 4]]\n[['a', 'zen'], ['amazon'], ['ball', 'apple']]\n",
          "output_type": "stream"
        }
      ]
    },
    {
      "cell_type": "code",
      "source": "#customizing sort\nd = [1, 50, 4, 6, 7, -8, 30, 2, -2, 2, -2, 50]\n\nprint(sorted(d, key=abs)) #[1, 2, -2, 2, -2, 4, 6, 7, -8, 30, 50, 50]\n\ndata = [[10, 2, 3], [10, 4, 2], [4, 5, 6], [10, 10, 10]]\n#least to greatest of nested list sum\nprint(sorted(data, key=sum)) #[[10, 2, 3], [4, 5, 6], [10, 4, 2], [10, 10, 10]]\n\n\ndata = [[10, 2, 3], [10, 4, 2, 10, 10, 10, 01], [4, 5, 6], [10, 10, 10]]\n#sort by nested list average\ndef avg(data):\n    return sum(data) / len(data)\n\nprint(sorted(data, key=avg))",
      "metadata": {
        "trusted": true
      },
      "execution_count": 26,
      "outputs": [
        {
          "name": "stdout",
          "text": "[1, 2, -2, 2, -2, 4, 6, 7, -8, 30, 50, 50]\n[[10, 2, 3], [4, 5, 6], [10, 4, 2], [10, 10, 10]]\n[[10, 2, 3], [4, 5, 6], [10, 4, 2], [10, 10, 10]]\n",
          "output_type": "stream"
        }
      ]
    },
    {
      "cell_type": "code",
      "source": "",
      "metadata": {},
      "execution_count": null,
      "outputs": []
    }
  ]
}