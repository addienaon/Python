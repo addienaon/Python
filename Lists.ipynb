{
  "metadata": {
    "language_info": {
      "codemirror_mode": {
        "name": "python",
        "version": 3
      },
      "file_extension": ".py",
      "mimetype": "text/x-python",
      "name": "python",
      "nbconvert_exporter": "python",
      "pygments_lexer": "ipython3",
      "version": "3.8"
    },
    "kernelspec": {
      "name": "python",
      "display_name": "Pyolite",
      "language": "python"
    }
  },
  "nbformat_minor": 4,
  "nbformat": 4,
  "cells": [
    {
      "cell_type": "code",
      "source": "print(\"Hello World\")",
      "metadata": {
        "trusted": true
      },
      "execution_count": 1,
      "outputs": [
        {
          "name": "stdout",
          "text": "Hello World\n",
          "output_type": "stream"
        }
      ]
    },
    {
      "cell_type": "code",
      "source": "healthy = ['pizza',\"frozen custard\"] \n\nhealthy.append(\"apple crisp\") #append is a method which is a function attached to an object. The object is the list, helahty.\n#A mehtod is different from a function because a function is not attached to any specific object. \n\n#len() is an example of a function\nlength = len(healthy) #when you invoke a funciton, you often have to pass in an argument\n\nprint(\"lenght:\", length)",
      "metadata": {
        "trusted": true
      },
      "execution_count": 6,
      "outputs": [
        {
          "name": "stdout",
          "text": "lenght: 3\n",
          "output_type": "stream"
        }
      ]
    },
    {
      "cell_type": "code",
      "source": "#Check if items are in a list \nprint(\"chicken pot pie\" in healthy) #this gives False\n\n#branching\nif \"pizza\" in healthy: #if item in list?\n    print(\"eat it\") #do this",
      "metadata": {
        "trusted": true
      },
      "execution_count": 10,
      "outputs": [
        {
          "name": "stdout",
          "text": "False\neat it\n",
          "output_type": "stream"
        }
      ]
    },
    {
      "cell_type": "code",
      "source": "#Removing elements from a list (if it's not healthy)\nhealthy = [\"kale chips\", \"broccoli\"]\nbackpack = [\"pizza\", \"frozen custard\", \"apple crisp\", \"kale chips\"]\n\n#basics\nif \"kale chips\" not in healthy:\n    backpack.remove(\"kale chips\")\n\nprint(id(backpack)) #58658424\nbackpack = [item for item in backpack if item in healthy] #we're going to keep an item that comes from backpack but only if item is in healthy\n\nprint(id(backpack)) #58622072\n\n#this created a new list in a different part of memory, so if this list were referenced somewhere else, the connection would be broken.\n#to keep the list in the same location in memory:\nbackpack = [\"pizza\", \"frozen custard\", \"apple crisp\", \"kale chips\"]\n\nprint(id(backpack)) #58778304\nbackpack[:] = [item for item in backpack if item in healthy] #we're going to keep an item that comes from backpack but only if item is in healthy\n\nprint(id(backpack)) #58778304\n\nprint(backpack)",
      "metadata": {
        "trusted": true
      },
      "execution_count": 16,
      "outputs": [
        {
          "name": "stdout",
          "text": "58666216\n58709176\n58778304\n58778304\n['kale chips']\n",
          "output_type": "stream"
        }
      ]
    },
    {
      "cell_type": "code",
      "source": "#List comprehension syntax\nhealthy = [\"kale chips\", \"broccoli\"]\nbackpack = [\"pizza\", \"frozen custard\", \"apple crisp\", \"kale chips\"]\n\n#backpack[:] = [item.upper() for item in backpack if item in healthy] \n\n#same thing, using loops\n\nhealthy_backpack = []\n\nfor item in backpack: #\"for item in backpack\"\n    if item in healthy: #\"if item in healthy\"\n        healthy_backpack.append(item.upper()) #\"item.upper()\" at the beginning \n        \nprint(healthy_backpack)",
      "metadata": {
        "trusted": true
      },
      "execution_count": 20,
      "outputs": [
        {
          "name": "stdout",
          "text": "['KALE CHIPS']\n",
          "output_type": "stream"
        }
      ]
    },
    {
      "cell_type": "code",
      "source": "#continued\nsquares = []\n\nfor i in range(10):\n    squares.append(i ** 2) \n    \nprint(squares)\n\n#Same thing usuing list comprehension syntax:\n\nsquares = [i**2 for i in range(10)]\nprint(squares)\n\n#only want even numbers:\nsquares = [i**2 for i in range(10) if i % 2 == 0]\nprint(squares)",
      "metadata": {
        "trusted": true
      },
      "execution_count": 24,
      "outputs": [
        {
          "name": "stdout",
          "text": "[0, 1, 4, 9, 16, 25, 36, 49, 64, 81]\n[0, 1, 4, 9, 16, 25, 36, 49, 64, 81]\n[0, 4, 16, 36, 64]\n",
          "output_type": "stream"
        }
      ]
    },
    {
      "cell_type": "code",
      "source": "#length of lists\ngreetings = [\"hi\", \"hello\", \"wassap\"]\n\nprint(greetings[2]) #index starts as 0\n\nprint(len(greetings))\n\nfor item in greetings:\n    print(item) #time complexity is O(N) because it has to print for every item in the list. \n\nrange(5, 10) #the 5 is included and the 10 is excluded. \n#range is very nice because it keeps you from going out of the bounds of a list and start at the correct position.\n    \nfor i in range(len(greetings)): #here we pass in 3, it starts at 0 and goes to 2 (excluding 3)\n    print(i, greetings[i])\n    ",
      "metadata": {
        "trusted": true
      },
      "execution_count": 28,
      "outputs": [
        {
          "name": "stdout",
          "text": "wassap\n3\nhi\nhello\nwassap\n0 hi\n1 hello\n2 wassap\n",
          "output_type": "stream"
        }
      ]
    },
    {
      "cell_type": "code",
      "source": "#Counting a particular element in a list\nbackpack = [\"backpack\", \"rubber duck\", \"slice of piza\", \"parachute\", \"sword\", \"sword\"]\n\nprint(backpack.count(\"sword\"))\n\n#dynamically cap the number of elements added to a list\nif backpack.count(\"sword\") < 5:\n    backpack.append(\"sword\")\n    \nprint(backpack.count(\"sword\"))",
      "metadata": {
        "trusted": true
      },
      "execution_count": 34,
      "outputs": [
        {
          "name": "stdout",
          "text": "2\n3\n",
          "output_type": "stream"
        }
      ]
    },
    {
      "cell_type": "code",
      "source": "",
      "metadata": {},
      "execution_count": null,
      "outputs": []
    },
    {
      "cell_type": "code",
      "source": "",
      "metadata": {},
      "execution_count": null,
      "outputs": []
    }
  ]
}