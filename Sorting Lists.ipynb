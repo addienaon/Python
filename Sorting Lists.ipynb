{
  "metadata": {
    "language_info": {
      "codemirror_mode": {
        "name": "python",
        "version": 3
      },
      "file_extension": ".py",
      "mimetype": "text/x-python",
      "name": "python",
      "nbconvert_exporter": "python",
      "pygments_lexer": "ipython3",
      "version": "3.8"
    },
    "kernelspec": {
      "name": "python",
      "display_name": "Pyolite",
      "language": "python"
    }
  },
  "nbformat_minor": 4,
  "nbformat": 4,
  "cells": [
    {
      "cell_type": "code",
      "source": "work_days = [\"Monday\", \"Tuesday\", \"Wednesday\", \"Thursday\", \"Friday\"]\ncopy = work_days[:]\n\n#.sort()modifies the original list\ncopy.sort() #alphabetical sort\n\nprint(copy)\n\nprint(sorted(work_days)) #makes a copy",
      "metadata": {
        "trusted": true
      },
      "execution_count": 5,
      "outputs": [
        {
          "name": "stdout",
          "text": "['Friday', 'Monday', 'Thursday', 'Tuesday', 'Wednesday']\n['Friday', 'Monday', 'Thursday', 'Tuesday', 'Wednesday']\n",
          "output_type": "stream"
        }
      ]
    },
    {
      "cell_type": "code",
      "source": "data = [1, 32, 54, 34, 65, 11, 100, -1, 3]\n\n#can be used for lists or dictionaries (\"iterables\")\nprint(sorted(data)) #sort small to large",
      "metadata": {
        "trusted": true
      },
      "execution_count": 6,
      "outputs": [
        {
          "name": "stdout",
          "text": "[-1, 1, 3, 11, 32, 34, 54, 65, 100]\n",
          "output_type": "stream"
        }
      ]
    },
    {
      "cell_type": "code",
      "source": "print(sorted(data)[::-1]) #sorted greatest to least (my solution)\n\n#calebs solutions\ndata.sort()\ndata.reverse()\n\nprint(data)\n\n#or\ndata = [1, 32, 54, 34, 65, 11, 100, -1, 3]\n\nsorted(data, reverse=True) #reverse is a 'named argument'. Same concept as mine.",
      "metadata": {
        "trusted": true
      },
      "execution_count": 9,
      "outputs": [
        {
          "name": "stdout",
          "text": "[100, 65, 54, 34, 32, 11, 3, 1, -1]\n[100, 65, 54, 34, 32, 11, 3, 1, -1]\n",
          "output_type": "stream"
        },
        {
          "execution_count": 9,
          "output_type": "execute_result",
          "data": {
            "text/plain": "[100, 65, 54, 34, 32, 11, 3, 1, -1]"
          },
          "metadata": {}
        }
      ]
    },
    {
      "cell_type": "code",
      "source": "strings = ['a', 'A', 'abc', 'ABC', 'aBc', 'aBC', 'Abc']\n\n#order of importance: capital, alphabetical\nstrings.sort()\nprint(strings) #['A', 'ABC', 'Abc', 'a', 'aBC', 'aBc', 'abc']\n\n#if you want to ignore capital letters, pass in a key\nstrings = ['a', 'A', 'abc', 'ABC', 'aBc', 'aBC', 'Abc']\n\nstrings.sort(key=str.lower)\nprint(strings) #['a', 'A', 'abc', 'ABC', 'aBc', 'aBC', 'Abc'] \n#by default 'abc','ABC', etc. would be the same so their order in the list is kept the same  \n",
      "metadata": {
        "trusted": true
      },
      "execution_count": 16,
      "outputs": [
        {
          "name": "stdout",
          "text": "['A', 'ABC', 'Abc', 'a', 'aBC', 'aBc', 'abc']\n['a', 'A', 'abc', 'ABC', 'aBc', 'aBC', 'Abc']\n",
          "output_type": "stream"
        }
      ]
    },
    {
      "cell_type": "code",
      "source": "#sort by string length (short to long)\nrandom = ['a', 'A', 'aa', 'AAA', 'HELLO', 'b', 'c', 'a']\n\nrandom.sort(key=len)\nprint(random)\n\nprint(sorted(random, key=len))",
      "metadata": {
        "trusted": true
      },
      "execution_count": 22,
      "outputs": [
        {
          "name": "stdout",
          "text": "['a', 'A', 'b', 'c', 'a', 'aa', 'AAA', 'HELLO']\n['a', 'A', 'b', 'c', 'a', 'aa', 'AAA', 'HELLO']\n",
          "output_type": "stream"
        }
      ]
    },
    {
      "cell_type": "code",
      "source": "#sorting numbers lexicographically\nnumbers = [1, 54, 76, 12, 111, 4343, 6, 8888, 3, 222, 1, 0, 222, -1, -122, 5, -30]\n\n#comparing numbers as if they are strings\n\nnumbers_as_str = ['1', '54', '76', '12', '111', '4343', '6', '8888', '3', '222', '1', '0', '222', '-1', '-122', '5', '-30']\nnumbers_as_str.sort()\nprint(numbers_as_str)#['-1', '-122', '-30', '0', '1', '1', '111', '12', '222', '222', '3', '4343', '5', '54', '6', '76', '8888']\n\n#comparing numbers lexicographically without converting str\nnumbers.sort(key=str)\nprint(numbers)",
      "metadata": {
        "trusted": true
      },
      "execution_count": 24,
      "outputs": [
        {
          "name": "stdout",
          "text": "['-1', '-122', '-30', '0', '1', '1', '111', '12', '222', '222', '3', '4343', '5', '54', '6', '76', '8888']\n[-1, -122, -30, 0, 1, 1, 111, 12, 222, 222, 3, 4343, 5, 54, 6, 76, 8888]\n",
          "output_type": "stream"
        }
      ]
    },
    {
      "cell_type": "code",
      "source": "#sorting strings as if they are numbers\nage = 5\nstuff = [True, False, 0, -1, '0', '1', '10', age < 30, '20', '2', '5', '9001', '5.5', 6, '6.0', 6]\n\nstuff.sort(key=float)\n\nprint(stuff)",
      "metadata": {
        "trusted": true
      },
      "execution_count": 26,
      "outputs": [
        {
          "name": "stdout",
          "text": "[-1, False, 0, '0', True, '1', True, '2', '5', '5.5', 6, '6.0', 6, '10', '20', '9001']\n",
          "output_type": "stream"
        }
      ]
    },
    {
      "cell_type": "code",
      "source": "",
      "metadata": {},
      "execution_count": null,
      "outputs": []
    }
  ]
}